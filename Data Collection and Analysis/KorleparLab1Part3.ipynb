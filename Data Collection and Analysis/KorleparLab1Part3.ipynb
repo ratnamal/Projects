{
 "cells": [
  {
   "cell_type": "code",
   "execution_count": null,
   "metadata": {},
   "outputs": [],
   "source": [
    "library(maps)\n",
    "library(twitteR)\n",
    "library(ggplot2)\n",
    "\n",
    "setup_twitter_oauth(\"5ndsbG499KP0FSwGY2TaXNiY4\",\"8fWPeag5VMvsYhZPbHlsmfSv4pPOWf55q02nP4KZzXab2IiaPY\",\"963164643178041344-t4vaKS5WQklpiTnUXheWgj9kHQNnFgF\",\"tlda58OfHg9XKoJWDhD5xV7iavQqIMgpbWFpomHNxOicZ\")\n",
    "\n",
    "us<-map_data(\"state\")\n",
    "tweets1<-searchTwitter(\"#flu\",n=5000)\n",
    "tweet.df<-twListToDF(tweets1)\n",
    "userNames<-tweet.df$screenName\n",
    "usersDF<-twListToDF(lookupUsers(userNames))\n",
    "knownUsersDF<-subset(usersDF,grepl('^[A-Za-z, ]+$', usersDF$location))\n",
    "locations<-knownUsersDF$location\n",
    "ll.visited <- geocode(locations)\n",
    "cities<-strsplit(locations,\",\")\n",
    "usCities<-c()\n",
    "for(i in 1:length(cities)){\n",
    "  city<-cities[[i]][1]\n",
    "  if(TRUE %in% grepl(city,us.cities$name)){\n",
    "    usCities<-c(usCities,city)\n",
    "  }\n",
    "}\n",
    "fluVictimsCnt<-c()\n",
    "for(i in 1:50){\n",
    "  fluVictimsCnt<-c(fluVictimsCnt,1)\n",
    "}\n",
    "for(i in 1:length(usCities)){\n",
    "  indexes=grep(usCities[i],us.cities$name)\n",
    "  if(length(indexes)>0){\n",
    "    index=grep(us.cities$country.etc[indexes[1]],state.abb)\n",
    "    fluVictimsCnt[index]<-fluVictimsCnt[index]+1\n",
    "  }\n",
    "}\n",
    "#fluTwitterdf=data.frame(state.name,fluVictimsCnt)\n",
    "#write.csv(fluTwitterdf,file=\"filteredTwitterData.csv\")\n",
    "fluTwitterdf<-read.csv(\"filteredTwitterData.csv\")\n",
    "df<-fluTwitterdf\n",
    "df[\"region\"]<-tolower(state.name)\n",
    "#arr <- fluTwitterdf %>% add_rownames(\"region\") %>% mutate(region=tolower(state.name))\n",
    "ILIActivityLevel<-as.vector(fluTwitterdf$fluVictimsCnt)\n",
    "gg <- ggplot()\n",
    "gg <- gg + geom_map(data=us, map=us, aes(x=long, y=lat, map_id=region), fill=\"black\", color=\"black\", size=0.15)\n",
    "gg <- gg + geom_map(data=df, map=us, aes(fill=ILIActivityLevel, map_id=region),color=\"black\", size=0.15)\n",
    "gg <- gg + labs(x=NULL, y=NULL)\n",
    "gg <- gg + coord_map(\"albers\", lat0 = 39, lat1 = 45) \n",
    "gg <- gg + theme(panel.border = element_blank())\n",
    "gg <- gg + theme(panel.background = element_blank())\n",
    "gg <- gg + theme(axis.ticks = element_blank())\n",
    "gg <- gg + theme(axis.text = element_blank())\n",
    "gg"
   ]
  },
  {
   "cell_type": "code",
   "execution_count": 6,
   "metadata": {},
   "outputs": [
    {
     "name": "stderr",
     "output_type": "stream",
     "text": [
      "Warning message:\n",
      "\"Ignoring unknown aesthetics: x, y\""
     ]
    },
    {
     "data": {},
     "metadata": {},
     "output_type": "display_data"
    },
    {
     "data": {
      "image/png": "[encoded data removed]",
      "text/plain": [
       "plot without title"
      ]
     },
     "metadata": {},
     "output_type": "display_data"
    }
   ],
   "source": [
    "us<-map_data(\"state\")\n",
    "fluTwitterdf<-read.csv(\"filteredTwitterData.csv\")\n",
    "df<-fluTwitterdf\n",
    "df[\"region\"]<-tolower(state.name)\n",
    "#arr <- fluTwitterdf %>% add_rownames(\"region\") %>% mutate(region=tolower(state.name))\n",
    "ILIActivityLevel<-as.vector(fluTwitterdf$fluVictimsCnt)\n",
    "gg <- ggplot()\n",
    "gg <- gg + geom_map(data=us, map=us, aes(x=long, y=lat, map_id=region), fill=\"black\",             color=\"black\", size=0.15)\n",
    "gg <- gg + geom_map(data=df, map=us, aes(fill=ILIActivityLevel, map_id=region),color=\"black\", size=0.15)\n",
    "gg <- gg + labs(x=NULL, y=NULL)\n",
    "gg <- gg + coord_map(\"albers\", lat0 = 39, lat1 = 45) \n",
    "gg <- gg + theme(panel.border = element_blank())\n",
    "gg <- gg + theme(panel.background = element_blank())\n",
    "gg <- gg + theme(axis.ticks = element_blank())\n",
    "gg <- gg + theme(axis.text = element_blank())\n",
    "gg"
   ]
  },
  {
   "cell_type": "code",
   "execution_count": null,
   "metadata": {},
   "outputs": [],
   "source": []
  }
 ],
 "metadata": {
  "kernelspec": {
   "display_name": "R",
   "language": "R",
   "name": "ir"
  },
  "language_info": {
   "codemirror_mode": "r",
   "file_extension": ".r",
   "mimetype": "text/x-r-source",
   "name": "R",
   "pygments_lexer": "r",
   "version": "3.4.2"
  }
 },
 "nbformat": 4,
 "nbformat_minor": 2
}
